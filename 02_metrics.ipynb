{
 "cells": [
  {
   "cell_type": "code",
   "execution_count": 13,
   "metadata": {},
   "outputs": [],
   "source": [
    "from sklearn import metrics"
   ]
  },
  {
   "cell_type": "code",
   "execution_count": 24,
   "metadata": {},
   "outputs": [],
   "source": [
    "def accuracy(y_true, y_pred):\n",
    "    c = 0 \n",
    "    t = 0\n",
    "    tp = 0\n",
    "    tn = 0\n",
    "    fp = 0\n",
    "    fn = 0\n",
    "    for yt, yp in zip(y_true, y_pred):\n",
    "        t += 1\n",
    "        if yt == yp:\n",
    "            c += 1\n",
    "        else: \n",
    "            pass\n",
    "        if yt == 1 and yp == 1:\n",
    "            tp += 1\n",
    "        elif yt == 0 and yp == 0:\n",
    "            tn += 1\n",
    "        elif yt == 1 and yp == 0:\n",
    "            fn += 1\n",
    "        elif yt == 0 and yp == 1:\n",
    "            fp += 1\n",
    "        else:\n",
    "            pass \n",
    "        \n",
    "    print(f\"accuracy : {c/t}\")\n",
    "    print(f\"TP : {tp}\")\n",
    "    print(f\"TN : {tn}\")\n",
    "    print(f\"FP : {fp}\")\n",
    "    print(f\"FN : {fn}\")\n",
    "    print(f\"precision: {tp/(tp+fp)}\")\n",
    "    print(f\"Recall : {tp/(tp+fn)}\")\n",
    "\n",
    "    return None"
   ]
  },
  {
   "cell_type": "code",
   "execution_count": 25,
   "metadata": {},
   "outputs": [
    {
     "name": "stdout",
     "output_type": "stream",
     "text": [
      "accuracy : 0.625\n",
      "TP : 2\n",
      "TN : 3\n",
      "FP : 1\n",
      "FN : 2\n",
      "precision: 0.6666666666666666\n",
      "Recall : 0.5\n"
     ]
    }
   ],
   "source": [
    "l1 = [0,1,1,1,0,0,0,1]\n",
    "l2 = [0,1,0,1,0,1,0,0]\n",
    "\n",
    "accuracy(l1,l2)"
   ]
  },
  {
   "attachments": {},
   "cell_type": "markdown",
   "metadata": {},
   "source": [
    "# PR Curve "
   ]
  },
  {
   "cell_type": "code",
   "execution_count": 26,
   "metadata": {},
   "outputs": [],
   "source": [
    "y_true = [0, 0, 0, 1, 0, 0, 0, 0, 0, 0,1, 0, 0, 0, 0, 0, 0, 0, 1, 0]\n",
    "y_pred = [0.02638412, 0.11114267, 0.31620708,\n",
    " 0.0490937, 0.0191491, 0.17554844,\n",
    " 0.15952202, 0.03819563, 0.11639273,\n",
    " 0.079377, 0.08584789, 0.39095342,\n",
    "0.27259048, 0.03447096, 0.04644807,\n",
    " 0.03543574, 0.18521942, 0.05934905,\n",
    " 0.61977213, 0.33056815]"
   ]
  },
  {
   "cell_type": "code",
   "execution_count": 27,
   "metadata": {},
   "outputs": [],
   "source": [
    "import numpy as np"
   ]
  },
  {
   "cell_type": "code",
   "execution_count": 30,
   "metadata": {},
   "outputs": [],
   "source": [
    "def log_loss(y_true, y_proba):\n",
    "    epsilon = 1e-15\n",
    "    # initialize empty list to store\n",
    "    # individual losses\n",
    "    loss = []\n",
    "    # loop over all true and predicted probability values\n",
    "    for yt, yp in zip(y_true, y_proba):\n",
    "        # adjust probability\n",
    "        # 0 gets converted to 1e-15\n",
    "        # 1 gets converted to 1-1e-15\n",
    "        # Why? Think about it!\n",
    "        \n",
    "        yp = np.clip(yp, epsilon, 1 - epsilon)\n",
    "        # calculate loss for one sample\n",
    "        temp_loss = - 1.0 * (\n",
    "                            yt * np.log(yp)\n",
    "                            + (1 - yt) * np.log(1 - yp)\n",
    "                            )\n",
    "        # add to loss list\n",
    "        loss.append(temp_loss)\n",
    "        # return mean loss over all samples\n",
    "    return np.mean(loss)"
   ]
  },
  {
   "cell_type": "code",
   "execution_count": 31,
   "metadata": {},
   "outputs": [
    {
     "data": {
      "text/plain": [
       "0.4352001013091729"
      ]
     },
     "execution_count": 31,
     "metadata": {},
     "output_type": "execute_result"
    }
   ],
   "source": [
    "log_loss(y_true, y_pred)"
   ]
  },
  {
   "cell_type": "code",
   "execution_count": null,
   "metadata": {},
   "outputs": [],
   "source": []
  }
 ],
 "metadata": {
  "kernelspec": {
   "display_name": ".venv",
   "language": "python",
   "name": "python3"
  },
  "language_info": {
   "codemirror_mode": {
    "name": "ipython",
    "version": 3
   },
   "file_extension": ".py",
   "mimetype": "text/x-python",
   "name": "python",
   "nbconvert_exporter": "python",
   "pygments_lexer": "ipython3",
   "version": "3.9.13"
  },
  "orig_nbformat": 4
 },
 "nbformat": 4,
 "nbformat_minor": 2
}
