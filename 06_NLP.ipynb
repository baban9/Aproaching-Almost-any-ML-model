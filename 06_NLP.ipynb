{
 "cells": [
  {
   "cell_type": "code",
   "execution_count": 1,
   "metadata": {},
   "outputs": [],
   "source": [
    "# !pip install nltk"
   ]
  },
  {
   "cell_type": "code",
   "execution_count": 2,
   "metadata": {},
   "outputs": [],
   "source": [
    "import pandas as pd \n",
    "import warnings \n",
    "warnings.filterwarnings(action='ignore')"
   ]
  },
  {
   "cell_type": "code",
   "execution_count": 3,
   "metadata": {},
   "outputs": [
    {
     "data": {
      "text/html": [
       "<div>\n",
       "<style scoped>\n",
       "    .dataframe tbody tr th:only-of-type {\n",
       "        vertical-align: middle;\n",
       "    }\n",
       "\n",
       "    .dataframe tbody tr th {\n",
       "        vertical-align: top;\n",
       "    }\n",
       "\n",
       "    .dataframe thead th {\n",
       "        text-align: right;\n",
       "    }\n",
       "</style>\n",
       "<table border=\"1\" class=\"dataframe\">\n",
       "  <thead>\n",
       "    <tr style=\"text-align: right;\">\n",
       "      <th></th>\n",
       "      <th>review</th>\n",
       "      <th>sentiment</th>\n",
       "    </tr>\n",
       "  </thead>\n",
       "  <tbody>\n",
       "    <tr>\n",
       "      <th>32240</th>\n",
       "      <td>As other reviewers have noted, this is an unju...</td>\n",
       "      <td>positive</td>\n",
       "    </tr>\n",
       "    <tr>\n",
       "      <th>8307</th>\n",
       "      <td>There were a lot of things going against this ...</td>\n",
       "      <td>positive</td>\n",
       "    </tr>\n",
       "    <tr>\n",
       "      <th>967</th>\n",
       "      <td>Life Begins - and ends - in a typical 1930's m...</td>\n",
       "      <td>positive</td>\n",
       "    </tr>\n",
       "    <tr>\n",
       "      <th>10868</th>\n",
       "      <td>Love it, love it, love it! This is another abs...</td>\n",
       "      <td>positive</td>\n",
       "    </tr>\n",
       "    <tr>\n",
       "      <th>32183</th>\n",
       "      <td>Well, the Hero and the Terror is slightly belo...</td>\n",
       "      <td>negative</td>\n",
       "    </tr>\n",
       "  </tbody>\n",
       "</table>\n",
       "</div>"
      ],
      "text/plain": [
       "                                                  review sentiment\n",
       "32240  As other reviewers have noted, this is an unju...  positive\n",
       "8307   There were a lot of things going against this ...  positive\n",
       "967    Life Begins - and ends - in a typical 1930's m...  positive\n",
       "10868  Love it, love it, love it! This is another abs...  positive\n",
       "32183  Well, the Hero and the Terror is slightly belo...  negative"
      ]
     },
     "execution_count": 3,
     "metadata": {},
     "output_type": "execute_result"
    }
   ],
   "source": [
    "df = pd.read_csv('datasets/IMDB Dataset.csv').sample(1000)\n",
    "df.head()"
   ]
  },
  {
   "attachments": {},
   "cell_type": "markdown",
   "metadata": {},
   "source": [
    "### countVectorizer : bag of words"
   ]
  },
  {
   "cell_type": "code",
   "execution_count": 4,
   "metadata": {},
   "outputs": [],
   "source": [
    "from sklearn.feature_extraction.text import CountVectorizer"
   ]
  },
  {
   "cell_type": "code",
   "execution_count": 5,
   "metadata": {},
   "outputs": [],
   "source": [
    "# create a corpus of sentences\n",
    "corpus = [\n",
    " \"hello, how are you?\",\n",
    " \"im getting bored at home. And you? What do you think?\",\n",
    " \"did you know about counts\",\n",
    " \"let's see if this works!\",\n",
    " \"YES!!!!\"\n",
    "]"
   ]
  },
  {
   "cell_type": "code",
   "execution_count": 6,
   "metadata": {},
   "outputs": [
    {
     "data": {
      "text/html": [
       "<style>#sk-container-id-1 {color: black;background-color: white;}#sk-container-id-1 pre{padding: 0;}#sk-container-id-1 div.sk-toggleable {background-color: white;}#sk-container-id-1 label.sk-toggleable__label {cursor: pointer;display: block;width: 100%;margin-bottom: 0;padding: 0.3em;box-sizing: border-box;text-align: center;}#sk-container-id-1 label.sk-toggleable__label-arrow:before {content: \"▸\";float: left;margin-right: 0.25em;color: #696969;}#sk-container-id-1 label.sk-toggleable__label-arrow:hover:before {color: black;}#sk-container-id-1 div.sk-estimator:hover label.sk-toggleable__label-arrow:before {color: black;}#sk-container-id-1 div.sk-toggleable__content {max-height: 0;max-width: 0;overflow: hidden;text-align: left;background-color: #f0f8ff;}#sk-container-id-1 div.sk-toggleable__content pre {margin: 0.2em;color: black;border-radius: 0.25em;background-color: #f0f8ff;}#sk-container-id-1 input.sk-toggleable__control:checked~div.sk-toggleable__content {max-height: 200px;max-width: 100%;overflow: auto;}#sk-container-id-1 input.sk-toggleable__control:checked~label.sk-toggleable__label-arrow:before {content: \"▾\";}#sk-container-id-1 div.sk-estimator input.sk-toggleable__control:checked~label.sk-toggleable__label {background-color: #d4ebff;}#sk-container-id-1 div.sk-label input.sk-toggleable__control:checked~label.sk-toggleable__label {background-color: #d4ebff;}#sk-container-id-1 input.sk-hidden--visually {border: 0;clip: rect(1px 1px 1px 1px);clip: rect(1px, 1px, 1px, 1px);height: 1px;margin: -1px;overflow: hidden;padding: 0;position: absolute;width: 1px;}#sk-container-id-1 div.sk-estimator {font-family: monospace;background-color: #f0f8ff;border: 1px dotted black;border-radius: 0.25em;box-sizing: border-box;margin-bottom: 0.5em;}#sk-container-id-1 div.sk-estimator:hover {background-color: #d4ebff;}#sk-container-id-1 div.sk-parallel-item::after {content: \"\";width: 100%;border-bottom: 1px solid gray;flex-grow: 1;}#sk-container-id-1 div.sk-label:hover label.sk-toggleable__label {background-color: #d4ebff;}#sk-container-id-1 div.sk-serial::before {content: \"\";position: absolute;border-left: 1px solid gray;box-sizing: border-box;top: 0;bottom: 0;left: 50%;z-index: 0;}#sk-container-id-1 div.sk-serial {display: flex;flex-direction: column;align-items: center;background-color: white;padding-right: 0.2em;padding-left: 0.2em;position: relative;}#sk-container-id-1 div.sk-item {position: relative;z-index: 1;}#sk-container-id-1 div.sk-parallel {display: flex;align-items: stretch;justify-content: center;background-color: white;position: relative;}#sk-container-id-1 div.sk-item::before, #sk-container-id-1 div.sk-parallel-item::before {content: \"\";position: absolute;border-left: 1px solid gray;box-sizing: border-box;top: 0;bottom: 0;left: 50%;z-index: -1;}#sk-container-id-1 div.sk-parallel-item {display: flex;flex-direction: column;z-index: 1;position: relative;background-color: white;}#sk-container-id-1 div.sk-parallel-item:first-child::after {align-self: flex-end;width: 50%;}#sk-container-id-1 div.sk-parallel-item:last-child::after {align-self: flex-start;width: 50%;}#sk-container-id-1 div.sk-parallel-item:only-child::after {width: 0;}#sk-container-id-1 div.sk-dashed-wrapped {border: 1px dashed gray;margin: 0 0.4em 0.5em 0.4em;box-sizing: border-box;padding-bottom: 0.4em;background-color: white;}#sk-container-id-1 div.sk-label label {font-family: monospace;font-weight: bold;display: inline-block;line-height: 1.2em;}#sk-container-id-1 div.sk-label-container {text-align: center;}#sk-container-id-1 div.sk-container {/* jupyter's `normalize.less` sets `[hidden] { display: none; }` but bootstrap.min.css set `[hidden] { display: none !important; }` so we also need the `!important` here to be able to override the default hidden behavior on the sphinx rendered scikit-learn.org. See: https://github.com/scikit-learn/scikit-learn/issues/21755 */display: inline-block !important;position: relative;}#sk-container-id-1 div.sk-text-repr-fallback {display: none;}</style><div id=\"sk-container-id-1\" class=\"sk-top-container\"><div class=\"sk-text-repr-fallback\"><pre>CountVectorizer()</pre><b>In a Jupyter environment, please rerun this cell to show the HTML representation or trust the notebook. <br />On GitHub, the HTML representation is unable to render, please try loading this page with nbviewer.org.</b></div><div class=\"sk-container\" hidden><div class=\"sk-item\"><div class=\"sk-estimator sk-toggleable\"><input class=\"sk-toggleable__control sk-hidden--visually\" id=\"sk-estimator-id-1\" type=\"checkbox\" checked><label for=\"sk-estimator-id-1\" class=\"sk-toggleable__label sk-toggleable__label-arrow\">CountVectorizer</label><div class=\"sk-toggleable__content\"><pre>CountVectorizer()</pre></div></div></div></div></div>"
      ],
      "text/plain": [
       "CountVectorizer()"
      ]
     },
     "execution_count": 6,
     "metadata": {},
     "output_type": "execute_result"
    }
   ],
   "source": [
    "cv = CountVectorizer()\n",
    "cv.fit(corpus)"
   ]
  },
  {
   "cell_type": "code",
   "execution_count": 7,
   "metadata": {},
   "outputs": [
    {
     "name": "stdout",
     "output_type": "stream",
     "text": [
      "  (0, 2)\t1\n",
      "  (0, 9)\t1\n",
      "  (0, 11)\t1\n",
      "  (0, 22)\t1\n",
      "  (1, 1)\t1\n",
      "  (1, 3)\t1\n",
      "  (1, 4)\t1\n",
      "  (1, 7)\t1\n",
      "  (1, 8)\t1\n",
      "  (1, 10)\t1\n",
      "  (1, 13)\t1\n",
      "  (1, 17)\t1\n",
      "  (1, 19)\t1\n",
      "  (1, 22)\t2\n",
      "  (2, 0)\t1\n",
      "  (2, 5)\t1\n",
      "  (2, 6)\t1\n",
      "  (2, 14)\t1\n",
      "  (2, 22)\t1\n",
      "  (3, 12)\t1\n",
      "  (3, 15)\t1\n",
      "  (3, 16)\t1\n",
      "  (3, 18)\t1\n",
      "  (3, 20)\t1\n",
      "  (4, 21)\t1\n"
     ]
    }
   ],
   "source": [
    "transfomed = cv.transform(corpus)\n",
    "print(transfomed)"
   ]
  },
  {
   "cell_type": "code",
   "execution_count": 8,
   "metadata": {},
   "outputs": [
    {
     "name": "stdout",
     "output_type": "stream",
     "text": [
      "{'hello': 9, 'how': 11, 'are': 2, 'you': 22, 'im': 13, 'getting': 8, 'bored': 4, 'at': 3, 'home': 10, 'and': 1, 'what': 19, 'do': 7, 'think': 17, 'did': 6, 'know': 14, 'about': 0, 'counts': 5, 'let': 15, 'see': 16, 'if': 12, 'this': 18, 'works': 20, 'yes': 21}\n"
     ]
    }
   ],
   "source": [
    "print(cv.vocabulary_)"
   ]
  },
  {
   "cell_type": "code",
   "execution_count": 9,
   "metadata": {},
   "outputs": [],
   "source": [
    "from sklearn.feature_extraction.text import CountVectorizer\n",
    "from nltk.tokenize import word_tokenize\n",
    "corpus = [\n",
    " \"hello, how are you?\",\n",
    " \"im getting bored at home. And you? What do you think?\",\n",
    " \"did you know about counts\",\n",
    " \"let's see if this works!\",\n",
    " \"YES!!!!\"\n",
    "]"
   ]
  },
  {
   "cell_type": "code",
   "execution_count": 10,
   "metadata": {},
   "outputs": [
    {
     "name": "stdout",
     "output_type": "stream",
     "text": [
      "{'hello': 14, ',': 2, 'how': 16, 'are': 7, 'you': 27, '?': 4, 'im': 18, 'getting': 13, 'bored': 9, 'at': 8, 'home': 15, '.': 3, 'and': 6, 'what': 24, 'do': 12, 'think': 22, 'did': 11, 'know': 19, 'about': 5, 'counts': 10, 'let': 20, \"'s\": 1, 'see': 21, 'if': 17, 'this': 23, 'works': 25, '!': 0, 'yes': 26}\n"
     ]
    }
   ],
   "source": [
    "ctv = CountVectorizer(tokenizer=word_tokenize, token_pattern=None)\n",
    "ctv.fit(corpus)\n",
    "corpus_transformed = ctv.transform(corpus)\n",
    "print(ctv.vocabulary_)\n"
   ]
  },
  {
   "attachments": {},
   "cell_type": "markdown",
   "metadata": {},
   "source": [
    "# training the sentiment analysis "
   ]
  },
  {
   "cell_type": "code",
   "execution_count": 11,
   "metadata": {},
   "outputs": [],
   "source": [
    "import pandas as pd\n",
    "from nltk.tokenize import word_tokenize\n",
    "from sklearn import linear_model\n",
    "from sklearn import metrics\n",
    "from sklearn import model_selection\n",
    "from sklearn.feature_extraction.text import CountVectorizer"
   ]
  },
  {
   "cell_type": "code",
   "execution_count": 12,
   "metadata": {},
   "outputs": [
    {
     "data": {
      "text/html": [
       "<div>\n",
       "<style scoped>\n",
       "    .dataframe tbody tr th:only-of-type {\n",
       "        vertical-align: middle;\n",
       "    }\n",
       "\n",
       "    .dataframe tbody tr th {\n",
       "        vertical-align: top;\n",
       "    }\n",
       "\n",
       "    .dataframe thead th {\n",
       "        text-align: right;\n",
       "    }\n",
       "</style>\n",
       "<table border=\"1\" class=\"dataframe\">\n",
       "  <thead>\n",
       "    <tr style=\"text-align: right;\">\n",
       "      <th></th>\n",
       "      <th>review</th>\n",
       "      <th>sentiment</th>\n",
       "    </tr>\n",
       "  </thead>\n",
       "  <tbody>\n",
       "    <tr>\n",
       "      <th>32240</th>\n",
       "      <td>As other reviewers have noted, this is an unju...</td>\n",
       "      <td>positive</td>\n",
       "    </tr>\n",
       "    <tr>\n",
       "      <th>8307</th>\n",
       "      <td>There were a lot of things going against this ...</td>\n",
       "      <td>positive</td>\n",
       "    </tr>\n",
       "    <tr>\n",
       "      <th>967</th>\n",
       "      <td>Life Begins - and ends - in a typical 1930's m...</td>\n",
       "      <td>positive</td>\n",
       "    </tr>\n",
       "    <tr>\n",
       "      <th>10868</th>\n",
       "      <td>Love it, love it, love it! This is another abs...</td>\n",
       "      <td>positive</td>\n",
       "    </tr>\n",
       "    <tr>\n",
       "      <th>32183</th>\n",
       "      <td>Well, the Hero and the Terror is slightly belo...</td>\n",
       "      <td>negative</td>\n",
       "    </tr>\n",
       "  </tbody>\n",
       "</table>\n",
       "</div>"
      ],
      "text/plain": [
       "                                                  review sentiment\n",
       "32240  As other reviewers have noted, this is an unju...  positive\n",
       "8307   There were a lot of things going against this ...  positive\n",
       "967    Life Begins - and ends - in a typical 1930's m...  positive\n",
       "10868  Love it, love it, love it! This is another abs...  positive\n",
       "32183  Well, the Hero and the Terror is slightly belo...  negative"
      ]
     },
     "execution_count": 12,
     "metadata": {},
     "output_type": "execute_result"
    }
   ],
   "source": [
    "df.head()"
   ]
  },
  {
   "cell_type": "code",
   "execution_count": 13,
   "metadata": {},
   "outputs": [],
   "source": [
    "df['sentiment'] = df['sentiment'].apply(lambda x: 1 if x =='positive' else 0)  "
   ]
  },
  {
   "cell_type": "code",
   "execution_count": 14,
   "metadata": {},
   "outputs": [],
   "source": [
    "df['kfold'] = -1\n",
    "df = df.sample(frac=1).reset_index(drop=True)\n",
    "y = df['sentiment'].values\n",
    "kf = model_selection.StratifiedKFold(n_splits=5)\n",
    "\n",
    "for f, (t_, v_) in enumerate(kf.split(X=df, y=y)):\n",
    "    df.loc[v_, 'kfold'] = f"
   ]
  },
  {
   "cell_type": "code",
   "execution_count": 15,
   "metadata": {},
   "outputs": [
    {
     "name": "stdout",
     "output_type": "stream",
     "text": [
      " 0 : 0.81\n",
      " 1 : 0.76\n",
      " 2 : 0.785\n",
      " 3 : 0.77\n",
      " 4 : 0.77\n"
     ]
    }
   ],
   "source": [
    "for fold_ in range(5):\n",
    "    train_df = df[df['kfold'] != fold_].reset_index(drop=True)\n",
    "    test_df = df[df['kfold'] == fold_].reset_index(drop=True)\n",
    "    count_vec = CountVectorizer(token_pattern=None, tokenizer=word_tokenize) \n",
    "    count_vec.fit(train_df.review)\n",
    "\n",
    "    x_train = count_vec.transform(train_df.review)\n",
    "    x_test = count_vec.transform(test_df.review)\n",
    "\n",
    "    model = linear_model.LogisticRegression()\n",
    "    model.fit(x_train, train_df['sentiment']) \n",
    "    \n",
    "    preds = model.predict(x_test) \n",
    "    acc = metrics.accuracy_score(test_df['sentiment'], preds) \n",
    "\n",
    "    print(f\" {fold_} : {acc}\")"
   ]
  },
  {
   "attachments": {},
   "cell_type": "markdown",
   "metadata": {},
   "source": [
    "# NAiveBayes "
   ]
  },
  {
   "cell_type": "code",
   "execution_count": 16,
   "metadata": {},
   "outputs": [],
   "source": [
    "from sklearn import naive_bayes"
   ]
  },
  {
   "cell_type": "code",
   "execution_count": 17,
   "metadata": {},
   "outputs": [
    {
     "name": "stdout",
     "output_type": "stream",
     "text": [
      " 0 : 0.805\n",
      " 1 : 0.82\n",
      " 2 : 0.75\n",
      " 3 : 0.84\n",
      " 4 : 0.775\n"
     ]
    }
   ],
   "source": [
    "for fold_ in range(5):\n",
    "    train_df = df[df['kfold'] != fold_].reset_index(drop=True)\n",
    "    test_df = df[df['kfold'] == fold_].reset_index(drop=True)\n",
    "    \n",
    "    count_vec = CountVectorizer(token_pattern=None, tokenizer=word_tokenize) \n",
    "    count_vec.fit(train_df.review)\n",
    "\n",
    "    x_train = count_vec.transform(train_df.review)\n",
    "    x_test = count_vec.transform(test_df.review)\n",
    "\n",
    "    model = naive_bayes.MultinomialNB()\n",
    "    model.fit(x_train, train_df['sentiment']) \n",
    "    \n",
    "    preds = model.predict(x_test) \n",
    "    acc = metrics.accuracy_score(test_df['sentiment'], preds) \n",
    "\n",
    "    print(f\" {fold_} : {acc}\")"
   ]
  },
  {
   "attachments": {},
   "cell_type": "markdown",
   "metadata": {},
   "source": [
    "### Tf-IDF"
   ]
  },
  {
   "cell_type": "code",
   "execution_count": 18,
   "metadata": {},
   "outputs": [],
   "source": [
    "from sklearn.feature_extraction.text import TfidfVectorizer"
   ]
  },
  {
   "cell_type": "code",
   "execution_count": 19,
   "metadata": {},
   "outputs": [],
   "source": [
    "tfv = TfidfVectorizer(tokenizer=word_tokenize, token_pattern=None)\n",
    "# fit the vectorizer on corpus\n",
    "tfv.fit(corpus)\n",
    "corpus_transformed = tfv.transform(corpus)\n"
   ]
  },
  {
   "cell_type": "code",
   "execution_count": 20,
   "metadata": {},
   "outputs": [
    {
     "name": "stdout",
     "output_type": "stream",
     "text": [
      " 0 : 0.81\n",
      " 1 : 0.815\n",
      " 2 : 0.75\n",
      " 3 : 0.83\n",
      " 4 : 0.775\n"
     ]
    }
   ],
   "source": [
    "for fold_ in range(5):\n",
    "    train_df = df[df['kfold'] != fold_].reset_index(drop=True)\n",
    "    test_df = df[df['kfold'] == fold_].reset_index(drop=True)\n",
    "    \n",
    "    tfv = TfidfVectorizer(tokenizer=word_tokenize, token_pattern=None)\n",
    "    tfv.fit(train_df.review)\n",
    "\n",
    "    x_train = count_vec.transform(train_df.review)\n",
    "    x_test = count_vec.transform(test_df.review)\n",
    "\n",
    "    model = naive_bayes.MultinomialNB()\n",
    "    model.fit(x_train, train_df['sentiment']) \n",
    "    \n",
    "    preds = model.predict(x_test) \n",
    "    acc = metrics.accuracy_score(test_df['sentiment'], preds) \n",
    "\n",
    "    print(f\" {fold_} : {acc}\")"
   ]
  },
  {
   "attachments": {},
   "cell_type": "markdown",
   "metadata": {},
   "source": [
    "# N-gram "
   ]
  },
  {
   "cell_type": "code",
   "execution_count": 21,
   "metadata": {},
   "outputs": [],
   "source": [
    "from nltk import ngrams "
   ]
  },
  {
   "cell_type": "code",
   "execution_count": 22,
   "metadata": {},
   "outputs": [
    {
     "name": "stdout",
     "output_type": "stream",
     "text": [
      "[('hi', ',', 'how'), (',', 'how', 'are'), ('how', 'are', 'you'), ('are', 'you', '?')]\n"
     ]
    }
   ],
   "source": [
    "# let's see 3 grams\n",
    "N = 3\n",
    "# input sentence\n",
    "sentence = \"hi, how are you?\"\n",
    "# tokenized sentence\n",
    "tokenized_sentence = word_tokenize(sentence)\n",
    "# generate n_grams\n",
    "n_grams = list(ngrams(tokenized_sentence, N))\n",
    "print(n_grams)"
   ]
  },
  {
   "cell_type": "code",
   "execution_count": 23,
   "metadata": {},
   "outputs": [
    {
     "name": "stdout",
     "output_type": "stream",
     "text": [
      " 0 : 0.81\n",
      " 1 : 0.815\n",
      " 2 : 0.75\n",
      " 3 : 0.83\n",
      " 4 : 0.775\n"
     ]
    }
   ],
   "source": [
    "\n",
    "for fold_ in range(5):\n",
    "    train_df = df[df['kfold'] != fold_].reset_index(drop=True)\n",
    "    test_df = df[df['kfold'] == fold_].reset_index(drop=True)\n",
    "    \n",
    "    tfv = tfidf_vec = TfidfVectorizer(\n",
    "                                        tokenizer=word_tokenize,\n",
    "                                        token_pattern=None,\n",
    "                                        ngram_range=(1, 3)\n",
    "                                        )\n",
    "    tfv.fit(train_df.review)\n",
    "\n",
    "    x_train = count_vec.transform(train_df.review)\n",
    "    x_test = count_vec.transform(test_df.review)\n",
    "\n",
    "    model = naive_bayes.MultinomialNB()\n",
    "    model.fit(x_train, train_df['sentiment']) \n",
    "    \n",
    "    preds = model.predict(x_test) \n",
    "    acc = metrics.accuracy_score(test_df['sentiment'], preds) \n",
    "\n",
    "    print(f\" {fold_} : {acc}\")"
   ]
  },
  {
   "attachments": {},
   "cell_type": "markdown",
   "metadata": {},
   "source": [
    "# lemmatization and stemming "
   ]
  },
  {
   "cell_type": "code",
   "execution_count": 24,
   "metadata": {},
   "outputs": [],
   "source": [
    "# from nltk.stem import WordNetLemmatizer\n",
    "# from nltk.stem.snowball import SnowballStemmer"
   ]
  },
  {
   "cell_type": "code",
   "execution_count": 25,
   "metadata": {},
   "outputs": [],
   "source": [
    "# import nltk\n",
    "# nltk.download('wordnet')"
   ]
  },
  {
   "cell_type": "code",
   "execution_count": 26,
   "metadata": {},
   "outputs": [],
   "source": [
    "# lemmatizer = WordNetLemmatizer()\n",
    "# stemmer = SnowballStemmer(\"english\")\n",
    "# words = [\"fishing\", \"fishes\", \"fished\"]\n",
    "# for word in words:\n",
    "#     print(f\"word={word}\")\n",
    "#     print(f\"stemmed_word={stemmer.stem(word)}\")\n",
    "#     print(f\"lemma={lemmatizer.lemmatize(word)}\")\n",
    "#     print(\"\")"
   ]
  },
  {
   "attachments": {},
   "cell_type": "markdown",
   "metadata": {},
   "source": [
    "# MAtrix decomposition "
   ]
  },
  {
   "cell_type": "code",
   "execution_count": 27,
   "metadata": {},
   "outputs": [],
   "source": [
    "corpus = df.review.values\n",
    "tfv = TfidfVectorizer(tokenizer=word_tokenize, token_pattern=None)\n",
    "tfv.fit(corpus)\n",
    "corpus_transformed = tfv.transform(corpus)\n"
   ]
  },
  {
   "cell_type": "code",
   "execution_count": 28,
   "metadata": {},
   "outputs": [],
   "source": [
    "from sklearn.decomposition import TruncatedSVD"
   ]
  },
  {
   "cell_type": "code",
   "execution_count": 29,
   "metadata": {},
   "outputs": [],
   "source": [
    "svd = TruncatedSVD(n_components=10)\n",
    "corpus_svd = svd.fit(corpus_transformed)"
   ]
  },
  {
   "cell_type": "code",
   "execution_count": 30,
   "metadata": {},
   "outputs": [
    {
     "name": "stdout",
     "output_type": "stream",
     "text": [
      "['the', ',', '.', 'a', 'and']\n"
     ]
    }
   ],
   "source": [
    "sample_index = 0\n",
    "feature_scores = dict(\n",
    " zip(\n",
    " tfv.get_feature_names_out(),\n",
    " corpus_svd.components_[sample_index]\n",
    " )\n",
    ")\n",
    "\n",
    "N = 5\n",
    "print(sorted(feature_scores, key=feature_scores.get, reverse=True)[:N])"
   ]
  },
  {
   "cell_type": "code",
   "execution_count": 31,
   "metadata": {},
   "outputs": [
    {
     "name": "stdout",
     "output_type": "stream",
     "text": [
      "['the', ',', '.', 'a', 'and']\n",
      "['>', '<', '/', 'br', '...']\n",
      "['i', 'movie', '!', 'was', 'it']\n",
      "['!', ',', '?', ')', '(']\n",
      "['!', 'the', 'is', 'of', 'and']\n"
     ]
    }
   ],
   "source": [
    "N = 5\n",
    "for sample_index in range(5):\n",
    " feature_scores = dict(\n",
    " zip(\n",
    " tfv.get_feature_names_out(),\n",
    " corpus_svd.components_[sample_index]\n",
    " )\n",
    " )\n",
    " print(\n",
    " sorted(\n",
    " feature_scores,\n",
    " key=feature_scores.get,\n",
    " reverse=True\n",
    " )[:N]\n",
    " )"
   ]
  },
  {
   "cell_type": "code",
   "execution_count": 32,
   "metadata": {},
   "outputs": [],
   "source": [
    "import re\n",
    "import string\n",
    "\n",
    "def clean_text(s):\n",
    "    # split by all whitespaces\n",
    "    s = s.split()\n",
    "\n",
    "    # join tokens by single space\n",
    "    # why we do this?\n",
    "    # this will remove all kinds of weird space\n",
    "    # \"hi. how are you\" becomes\n",
    "    # \"hi. how are you\"\n",
    "    s = \" \".join([x for x in s if len(x)>3])\n",
    "\n",
    "    # remove all punctuations using regex and string module\n",
    "    s = re.sub(f'[{re.escape(string.punctuation)}]', '', s)\n",
    "\n",
    "    # you can add more cleaning here if you want\n",
    "    # and then return the cleaned string\n",
    "    return s\n"
   ]
  },
  {
   "cell_type": "code",
   "execution_count": 33,
   "metadata": {},
   "outputs": [],
   "source": [
    "df.loc[:, \"review\"] = df.review.apply(clean_text)\n",
    "\n",
    "corpus = df.review.values\n",
    "tfv = TfidfVectorizer(tokenizer=word_tokenize, token_pattern=None)\n",
    "tfv.fit(corpus)\n",
    "corpus_transformed = tfv.transform(corpus)\n",
    "\n",
    "svd = TruncatedSVD(n_components=10)\n",
    "corpus_svd = svd.fit(corpus_transformed)"
   ]
  },
  {
   "cell_type": "code",
   "execution_count": 34,
   "metadata": {},
   "outputs": [
    {
     "name": "stdout",
     "output_type": "stream",
     "text": [
      "['this', 'that', 'movie', 'br', 'film']\n",
      "['movie', 'this', 'movies', 'dont', 'think']\n",
      "['br', 'the', 'movie', 'they', 'show']\n",
      "['br', 'film', 'this', 'worst', 'acting']\n",
      "['they', 'show', 'that', 'have', 'dont']\n"
     ]
    }
   ],
   "source": [
    "N = 5\n",
    "for sample_index in range(5):\n",
    " feature_scores = dict(\n",
    " zip(\n",
    " tfv.get_feature_names_out(),\n",
    " corpus_svd.components_[sample_index]\n",
    " )\n",
    " )\n",
    " print(\n",
    " sorted(\n",
    " feature_scores,\n",
    " key=feature_scores.get,\n",
    " reverse=True\n",
    " )[:N]\n",
    " )"
   ]
  },
  {
   "attachments": {},
   "cell_type": "markdown",
   "metadata": {},
   "source": [
    "# Word Embeddings "
   ]
  },
  {
   "cell_type": "code",
   "execution_count": 35,
   "metadata": {},
   "outputs": [],
   "source": [
    "import numpy as np "
   ]
  },
  {
   "cell_type": "code",
   "execution_count": 36,
   "metadata": {},
   "outputs": [],
   "source": [
    "def sentence_to_vec(s, embedding_dict, stop_words=None, tokenizer=None):\n",
    "    words = str(s).lower()\n",
    "    words = tokenizer(words)\n",
    "    words = [w for w in words if w not in stop_words] \n",
    "    words = [w for w in words if w.isalpha()] \n",
    "    M = [] \n",
    "    for w in words:\n",
    "        res = embedding_dict.get(w, None) \n",
    "        if res is not None:\n",
    "            M.append(res)\n",
    "\n",
    "    if len(M) == 0:\n",
    "        return np.zeros(300) \n",
    "\n",
    "    M = np.array(M)\n",
    "    v = M.sum(axis=0)\n",
    "    return v/np.sqrt((v**2).sum())\n",
    "\n"
   ]
  },
  {
   "cell_type": "code",
   "execution_count": 37,
   "metadata": {},
   "outputs": [],
   "source": [
    "import io\n",
    "from tqdm import tqdm"
   ]
  },
  {
   "cell_type": "code",
   "execution_count": 38,
   "metadata": {},
   "outputs": [],
   "source": [
    "def load_vectors(fname):\n",
    "    # taken from: https://fasttext.cc/docs/en/english-vectors.html\n",
    "    fin = io.open(\n",
    "                fname,\n",
    "                'r',\n",
    "                encoding='utf-8',\n",
    "                newline='\\n',\n",
    "                errors='ignore'\n",
    "                )\n",
    "    n, d = map(int, fin.readline().split())\n",
    "    data = {}\n",
    "    for line in tqdm(fin):\n",
    "        tokens = line.rstrip().split(' ')\n",
    "        data[tokens[0]] = list(map(float, tokens[1:]))\n",
    "    return data"
   ]
  },
  {
   "cell_type": "code",
   "execution_count": 39,
   "metadata": {},
   "outputs": [
    {
     "name": "stdout",
     "output_type": "stream",
     "text": [
      "loading embeddings\n"
     ]
    },
    {
     "name": "stderr",
     "output_type": "stream",
     "text": [
      "999994it [04:32, 3671.68it/s]\n"
     ]
    }
   ],
   "source": [
    "df = pd.read_csv('datasets/IMDB Dataset.csv').sample(1000) \n",
    "df['sentiment'] = df['sentiment'].apply(lambda x: 1 if x == 'positive' else 0) \n",
    "df = df.sample(frac=1).reset_index(drop=True) \n",
    "print(\"loading embeddings\")\n",
    "# embeddings = load_vectors(\"datasets/wiki-news-300d-1M.vec\") \n"
   ]
  },
  {
   "cell_type": "code",
   "execution_count": 40,
   "metadata": {},
   "outputs": [
    {
     "name": "stdout",
     "output_type": "stream",
     "text": [
      "create sentence vectors\n"
     ]
    }
   ],
   "source": [
    "print(\"create sentence vectors\") \n",
    "vectors = [] \n",
    "for review in df['review'].to_list():\n",
    "    vectors.append(\n",
    "        sentence_to_vec(\n",
    "            review, \n",
    "            embedding_dict=embeddings, \n",
    "            stop_words=[],\n",
    "            tokenizer=word_tokenize\n",
    "            )\n",
    "    )\n",
    "\n",
    "vectors = np.array(vectors)\n",
    "y = df['sentiment'].values"
   ]
  },
  {
   "cell_type": "code",
   "execution_count": 48,
   "metadata": {},
   "outputs": [
    {
     "name": "stdout",
     "output_type": "stream",
     "text": [
      " 0 : 0.735\n",
      " 1 : 0.75\n",
      " 2 : 0.645\n",
      " 3 : 0.735\n",
      " 4 : 0.74\n"
     ]
    }
   ],
   "source": [
    "kf = model_selection.StratifiedKFold(n_splits=5)\n",
    "\n",
    "for fold_, (t_, v_) in enumerate(kf.split(X=vectors, y=y)):\n",
    "    xtrain = vectors[t_, :]\n",
    "    ytrain = y[t_]\n",
    "\n",
    "    xtest = vectors[v_, :]\n",
    "    ytest = y[v_]\n",
    "\n",
    "    model = linear_model.LogisticRegression()\n",
    "    model.fit(xtrain, ytrain)\n",
    "\n",
    "    preds = model.predict(xtest) \n",
    "    acc = metrics.accuracy_score(ytest, preds) \n",
    "    print(f\" {fold_} : {acc}\")"
   ]
  },
  {
   "attachments": {},
   "cell_type": "markdown",
   "metadata": {},
   "source": [
    "# Bi-Directional LSTM"
   ]
  }
 ],
 "metadata": {
  "kernelspec": {
   "display_name": ".venv",
   "language": "python",
   "name": "python3"
  },
  "language_info": {
   "codemirror_mode": {
    "name": "ipython",
    "version": 3
   },
   "file_extension": ".py",
   "mimetype": "text/x-python",
   "name": "python",
   "nbconvert_exporter": "python",
   "pygments_lexer": "ipython3",
   "version": "3.9.13"
  },
  "orig_nbformat": 4
 },
 "nbformat": 4,
 "nbformat_minor": 2
}
